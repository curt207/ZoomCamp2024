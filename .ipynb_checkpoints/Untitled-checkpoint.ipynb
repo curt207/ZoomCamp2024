{
 "cells": [
  {
   "cell_type": "code",
   "execution_count": 1,
   "id": "335ff7f4-be95-44bb-a18d-b1f43cb16b77",
   "metadata": {},
   "outputs": [
    {
     "name": "stdout",
     "output_type": "stream",
     "text": [
      "Hello World in Codespaces\n"
     ]
    }
   ],
   "source": [
    "print(\"Hello World in Codespaces\")"
   ]
  },
  {
   "cell_type": "code",
   "execution_count": null,
   "id": "7d92ccee-eee6-4bbb-ae93-976dd00af70b",
   "metadata": {},
   "outputs": [],
   "source": []
  }
 ],
 "metadata": {
  "kernelspec": {
   "display_name": "Python 3 (ipykernel)",
   "language": "python",
   "name": "python3"
  },
  "language_info": {
   "codemirror_mode": {
    "name": "ipython",
    "version": 3
   },
   "file_extension": ".py",
   "mimetype": "text/x-python",
   "name": "python",
   "nbconvert_exporter": "python",
   "pygments_lexer": "ipython3",
   "version": "3.10.13"
  }
 },
 "nbformat": 4,
 "nbformat_minor": 5
}
